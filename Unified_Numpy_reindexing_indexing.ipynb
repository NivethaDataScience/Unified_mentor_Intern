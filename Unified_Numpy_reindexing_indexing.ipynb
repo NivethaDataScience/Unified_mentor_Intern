{
 "cells": [
  {
   "cell_type": "code",
   "execution_count": 2,
   "id": "2774e0f8",
   "metadata": {},
   "outputs": [],
   "source": [
    "import numpy as np"
   ]
  },
  {
   "cell_type": "code",
   "execution_count": 4,
   "id": "2f762d87",
   "metadata": {},
   "outputs": [
    {
     "name": "stdout",
     "output_type": "stream",
     "text": [
      "5\n"
     ]
    }
   ],
   "source": [
    "a=np.array(5)\n",
    "print(a)"
   ]
  },
  {
   "cell_type": "code",
   "execution_count": 6,
   "id": "5d5f8045",
   "metadata": {},
   "outputs": [
    {
     "data": {
      "text/plain": [
       "0"
      ]
     },
     "execution_count": 6,
     "metadata": {},
     "output_type": "execute_result"
    }
   ],
   "source": [
    "np.ndim(a)"
   ]
  },
  {
   "cell_type": "code",
   "execution_count": 7,
   "id": "2d8869d2",
   "metadata": {},
   "outputs": [
    {
     "name": "stdout",
     "output_type": "stream",
     "text": [
      "[1 2 3 4 5]\n",
      "[[1 2 3]\n",
      " [4 5 6]]\n",
      "[[[1 2 3]\n",
      "  [4 5 6]\n",
      "  [7 9 8]]]\n"
     ]
    }
   ],
   "source": [
    "one=np.array([1,2,3,4,5])\n",
    "two=np.array([[1,2,3],[4,5,6]])\n",
    "three=np.array([[[1,2,3],[4,5,6],[7,9,8]]])\n",
    "print(one)\n",
    "print(two)\n",
    "print(three)"
   ]
  },
  {
   "cell_type": "code",
   "execution_count": 9,
   "id": "bba5c6f9",
   "metadata": {},
   "outputs": [
    {
     "name": "stdout",
     "output_type": "stream",
     "text": [
      "1\n",
      "2\n",
      "3\n"
     ]
    }
   ],
   "source": [
    "print(np.ndim(one))\n",
    "print(np.ndim(two))\n",
    "print(np.ndim(three))"
   ]
  },
  {
   "cell_type": "code",
   "execution_count": 11,
   "id": "8cdcc5cf",
   "metadata": {},
   "outputs": [],
   "source": [
    "List1=[1,2,3.4,[5,6]]\n",
    "arr=np.array([1,2,3,4,5])"
   ]
  },
  {
   "cell_type": "code",
   "execution_count": 13,
   "id": "67c4aa85",
   "metadata": {},
   "outputs": [],
   "source": [
    "arr=np.array([1,2,3.4,\"apple\"]) #converting all into strings"
   ]
  },
  {
   "cell_type": "code",
   "execution_count": 14,
   "id": "98aaef50",
   "metadata": {},
   "outputs": [
    {
     "data": {
      "text/plain": [
       "array(['1', '2', '3.4', 'apple'], dtype='<U32')"
      ]
     },
     "execution_count": 14,
     "metadata": {},
     "output_type": "execute_result"
    }
   ],
   "source": [
    "arr"
   ]
  },
  {
   "cell_type": "code",
   "execution_count": 16,
   "id": "2dfe24d0",
   "metadata": {},
   "outputs": [
    {
     "data": {
      "text/plain": [
       "array([0.2, 0.4, 0.6, 0.8, 1. ])"
      ]
     },
     "execution_count": 16,
     "metadata": {},
     "output_type": "execute_result"
    }
   ],
   "source": [
    "arr=np.array([1,2,3,4,5])# allows mathematical operations\n",
    "arr/5"
   ]
  },
  {
   "cell_type": "markdown",
   "id": "d4896c3c",
   "metadata": {},
   "source": [
    "->Array Consumes less memory compared to list\n",
    "->Array are faster than lists"
   ]
  },
  {
   "cell_type": "markdown",
   "id": "806f0e0d",
   "metadata": {},
   "source": [
    "Array Indexing"
   ]
  },
  {
   "cell_type": "code",
   "execution_count": 18,
   "id": "ce9ff61b",
   "metadata": {},
   "outputs": [],
   "source": [
    "arr=np.array([1,2,3,4,5,6,7,8,9,10,11,12])\n",
    "newarr=arr.reshape(4,3)"
   ]
  },
  {
   "cell_type": "code",
   "execution_count": 19,
   "id": "ad624cbb",
   "metadata": {},
   "outputs": [
    {
     "data": {
      "text/plain": [
       "array([[ 1,  2,  3],\n",
       "       [ 4,  5,  6],\n",
       "       [ 7,  8,  9],\n",
       "       [10, 11, 12]])"
      ]
     },
     "execution_count": 19,
     "metadata": {},
     "output_type": "execute_result"
    }
   ],
   "source": [
    "newarr"
   ]
  },
  {
   "cell_type": "code",
   "execution_count": 21,
   "id": "60aa70b2",
   "metadata": {},
   "outputs": [
    {
     "data": {
      "text/plain": [
       "array([[[ 1,  2],\n",
       "        [ 3,  4],\n",
       "        [ 5,  6]],\n",
       "\n",
       "       [[ 7,  8],\n",
       "        [ 9, 10],\n",
       "        [11, 12]]])"
      ]
     },
     "execution_count": 21,
     "metadata": {},
     "output_type": "execute_result"
    }
   ],
   "source": [
    "newarr=arr.reshape(2,3,2)\n",
    "newarr"
   ]
  },
  {
   "cell_type": "markdown",
   "id": "cb61a3df",
   "metadata": {},
   "source": [
    "Array Indexing\n",
    "        -> Array indexing is the same as accessing an array element\n",
    "        -> access the array element by referring to its index number\n",
    "           "
   ]
  },
  {
   "cell_type": "code",
   "execution_count": 22,
   "id": "8913fca8",
   "metadata": {},
   "outputs": [
    {
     "name": "stdout",
     "output_type": "stream",
     "text": [
      "2\n"
     ]
    }
   ],
   "source": [
    "arr=np.array([1,2,3,4])\n",
    "print(arr[1])"
   ]
  },
  {
   "cell_type": "code",
   "execution_count": 23,
   "id": "c1170aa5",
   "metadata": {},
   "outputs": [
    {
     "name": "stdout",
     "output_type": "stream",
     "text": [
      "7\n"
     ]
    }
   ],
   "source": [
    "print(arr[2]+ arr[3])#addition"
   ]
  },
  {
   "cell_type": "code",
   "execution_count": 26,
   "id": "f7f33978",
   "metadata": {},
   "outputs": [
    {
     "name": "stdout",
     "output_type": "stream",
     "text": [
      "2\n",
      "6\n"
     ]
    }
   ],
   "source": [
    "two=np.array([[1,2,3],[4,5,6]])\n",
    "print(two[0,1])\n",
    "print(two[1,2])"
   ]
  },
  {
   "cell_type": "code",
   "execution_count": 39,
   "id": "cca70975",
   "metadata": {
    "scrolled": true
   },
   "outputs": [
    {
     "name": "stdout",
     "output_type": "stream",
     "text": [
      "6\n",
      "4\n",
      "9\n",
      "[[[1 2 3]\n",
      "  [4 5 6]]\n",
      "\n",
      " [[7 9 8]\n",
      "  [3 4 5]]]\n"
     ]
    }
   ],
   "source": [
    "three=np.array([[[1,2,3],[4,5,6]],[[7,9,8],[3,4,5]]])\n",
    "print(three[0,1,2])\n",
    "print(three[1,1,1])\n",
    "print(three[1,0,1])\n",
    "print(three)"
   ]
  },
  {
   "cell_type": "code",
   "execution_count": null,
   "id": "311d5731",
   "metadata": {},
   "outputs": [],
   "source": []
  }
 ],
 "metadata": {
  "kernelspec": {
   "display_name": "Python 3 (ipykernel)",
   "language": "python",
   "name": "python3"
  },
  "language_info": {
   "codemirror_mode": {
    "name": "ipython",
    "version": 3
   },
   "file_extension": ".py",
   "mimetype": "text/x-python",
   "name": "python",
   "nbconvert_exporter": "python",
   "pygments_lexer": "ipython3",
   "version": "3.10.9"
  }
 },
 "nbformat": 4,
 "nbformat_minor": 5
}
