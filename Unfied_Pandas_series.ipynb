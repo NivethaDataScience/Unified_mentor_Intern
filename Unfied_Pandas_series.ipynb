{
 "cells": [
  {
   "cell_type": "markdown",
   "id": "f055e304",
   "metadata": {},
   "source": [
    "Pandas Series"
   ]
  },
  {
   "cell_type": "markdown",
   "id": "9286dcf7",
   "metadata": {},
   "source": [
    "A pandas series is like a Column in a table\n",
    "It is a One dimensional array holding data of any type"
   ]
  },
  {
   "cell_type": "code",
   "execution_count": 1,
   "id": "47b235a9",
   "metadata": {},
   "outputs": [],
   "source": [
    "import pandas as pd\n",
    "series=pd.Series([1,2,3,4,5])"
   ]
  },
  {
   "cell_type": "code",
   "execution_count": 2,
   "id": "9b2bfb2d",
   "metadata": {},
   "outputs": [
    {
     "data": {
      "text/plain": [
       "0    1\n",
       "1    2\n",
       "2    3\n",
       "3    4\n",
       "4    5\n",
       "dtype: int64"
      ]
     },
     "execution_count": 2,
     "metadata": {},
     "output_type": "execute_result"
    }
   ],
   "source": [
    "series"
   ]
  },
  {
   "cell_type": "code",
   "execution_count": null,
   "id": "bee7e6ea",
   "metadata": {},
   "outputs": [],
   "source": [
    "series=pd.Series([1,2,3,4,5],index=[5,6,7,8,9])# we also pass alphabets as a Index within double quotes(each alphabet)"
   ]
  },
  {
   "cell_type": "code",
   "execution_count": 4,
   "id": "9611c598",
   "metadata": {},
   "outputs": [
    {
     "data": {
      "text/plain": [
       "5    1\n",
       "6    2\n",
       "7    3\n",
       "8    4\n",
       "9    5\n",
       "dtype: int64"
      ]
     },
     "execution_count": 4,
     "metadata": {},
     "output_type": "execute_result"
    }
   ],
   "source": [
    "series"
   ]
  },
  {
   "cell_type": "markdown",
   "id": "c383d4c7",
   "metadata": {},
   "source": [
    "Accessing Series Elements"
   ]
  },
  {
   "cell_type": "code",
   "execution_count": 8,
   "id": "425dce29",
   "metadata": {},
   "outputs": [
    {
     "name": "stdout",
     "output_type": "stream",
     "text": [
      "1\n"
     ]
    }
   ],
   "source": [
    "print(series[5])#5 is an index Number"
   ]
  },
  {
   "cell_type": "markdown",
   "id": "4ea142ee",
   "metadata": {},
   "source": [
    "Pandas DataFrame"
   ]
  },
  {
   "cell_type": "markdown",
   "id": "5b78bdf4",
   "metadata": {},
   "source": [
    "A Data Frame is a two dimensional data Structure, i.e data is aligned in a tabular fashion in rows and columns"
   ]
  },
  {
   "cell_type": "code",
   "execution_count": 13,
   "id": "5e72d857",
   "metadata": {},
   "outputs": [],
   "source": [
    "data=pd.DataFrame({'Name':['Tom','Jack','Steve','Ricky','sam','Will','Root'],\n",
    "                  'Age':[28,34,29,42,17,17,45]}, index=['C1','C2','C3','C4','C5','C6','C7'])"
   ]
  },
  {
   "cell_type": "code",
   "execution_count": 15,
   "id": "23093b38",
   "metadata": {},
   "outputs": [
    {
     "data": {
      "text/html": [
       "<div>\n",
       "<style scoped>\n",
       "    .dataframe tbody tr th:only-of-type {\n",
       "        vertical-align: middle;\n",
       "    }\n",
       "\n",
       "    .dataframe tbody tr th {\n",
       "        vertical-align: top;\n",
       "    }\n",
       "\n",
       "    .dataframe thead th {\n",
       "        text-align: right;\n",
       "    }\n",
       "</style>\n",
       "<table border=\"1\" class=\"dataframe\">\n",
       "  <thead>\n",
       "    <tr style=\"text-align: right;\">\n",
       "      <th></th>\n",
       "      <th>Name</th>\n",
       "      <th>Age</th>\n",
       "    </tr>\n",
       "  </thead>\n",
       "  <tbody>\n",
       "    <tr>\n",
       "      <th>C1</th>\n",
       "      <td>Tom</td>\n",
       "      <td>28</td>\n",
       "    </tr>\n",
       "    <tr>\n",
       "      <th>C2</th>\n",
       "      <td>Jack</td>\n",
       "      <td>34</td>\n",
       "    </tr>\n",
       "    <tr>\n",
       "      <th>C3</th>\n",
       "      <td>Steve</td>\n",
       "      <td>29</td>\n",
       "    </tr>\n",
       "    <tr>\n",
       "      <th>C4</th>\n",
       "      <td>Ricky</td>\n",
       "      <td>42</td>\n",
       "    </tr>\n",
       "    <tr>\n",
       "      <th>C5</th>\n",
       "      <td>sam</td>\n",
       "      <td>17</td>\n",
       "    </tr>\n",
       "  </tbody>\n",
       "</table>\n",
       "</div>"
      ],
      "text/plain": [
       "     Name  Age\n",
       "C1    Tom   28\n",
       "C2   Jack   34\n",
       "C3  Steve   29\n",
       "C4  Ricky   42\n",
       "C5    sam   17"
      ]
     },
     "execution_count": 15,
     "metadata": {},
     "output_type": "execute_result"
    }
   ],
   "source": [
    "data.head()"
   ]
  },
  {
   "cell_type": "markdown",
   "id": "585bbb8e",
   "metadata": {},
   "source": [
    "Column Selection"
   ]
  },
  {
   "cell_type": "code",
   "execution_count": 14,
   "id": "d0b9cdda",
   "metadata": {},
   "outputs": [
    {
     "data": {
      "text/plain": [
       "C1      Tom\n",
       "C2     Jack\n",
       "C3    Steve\n",
       "C4    Ricky\n",
       "C5      sam\n",
       "C6     Will\n",
       "C7     Root\n",
       "Name: Name, dtype: object"
      ]
     },
     "execution_count": 14,
     "metadata": {},
     "output_type": "execute_result"
    }
   ],
   "source": [
    "data['Name']"
   ]
  },
  {
   "cell_type": "code",
   "execution_count": 17,
   "id": "76f200c5",
   "metadata": {},
   "outputs": [
    {
     "data": {
      "text/plain": [
       "C1    28\n",
       "C2    34\n",
       "C3    29\n",
       "C4    42\n",
       "C5    17\n",
       "C6    17\n",
       "C7    45\n",
       "Name: Age, dtype: int64"
      ]
     },
     "execution_count": 17,
     "metadata": {},
     "output_type": "execute_result"
    }
   ],
   "source": [
    "data['Age']"
   ]
  },
  {
   "cell_type": "markdown",
   "id": "49e04640",
   "metadata": {},
   "source": [
    "Row Selection"
   ]
  },
  {
   "cell_type": "code",
   "execution_count": 18,
   "id": "f77b2744",
   "metadata": {},
   "outputs": [
    {
     "data": {
      "text/plain": [
       "'Tom'"
      ]
     },
     "execution_count": 18,
     "metadata": {},
     "output_type": "execute_result"
    }
   ],
   "source": [
    "data.loc['C1','Name']"
   ]
  },
  {
   "cell_type": "code",
   "execution_count": 19,
   "id": "c88d891b",
   "metadata": {},
   "outputs": [
    {
     "data": {
      "text/plain": [
       "'Steve'"
      ]
     },
     "execution_count": 19,
     "metadata": {},
     "output_type": "execute_result"
    }
   ],
   "source": [
    "data.iloc[2,0]"
   ]
  },
  {
   "cell_type": "code",
   "execution_count": 20,
   "id": "fc867a42",
   "metadata": {},
   "outputs": [
    {
     "data": {
      "text/plain": [
       "17"
      ]
     },
     "execution_count": 20,
     "metadata": {},
     "output_type": "execute_result"
    }
   ],
   "source": [
    "data.iloc[5,1]"
   ]
  },
  {
   "cell_type": "code",
   "execution_count": null,
   "id": "f0779803",
   "metadata": {},
   "outputs": [],
   "source": []
  }
 ],
 "metadata": {
  "kernelspec": {
   "display_name": "Python 3 (ipykernel)",
   "language": "python",
   "name": "python3"
  },
  "language_info": {
   "codemirror_mode": {
    "name": "ipython",
    "version": 3
   },
   "file_extension": ".py",
   "mimetype": "text/x-python",
   "name": "python",
   "nbconvert_exporter": "python",
   "pygments_lexer": "ipython3",
   "version": "3.10.9"
  }
 },
 "nbformat": 4,
 "nbformat_minor": 5
}
