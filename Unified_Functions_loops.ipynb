{
 "cells": [
  {
   "cell_type": "markdown",
   "id": "834bf4f1",
   "metadata": {},
   "source": [
    "Functions:\n",
    "  -> Function is a unit of code that is often defined within a greater code structure..\n",
    "  -> Specifically contains a set of code that works on many kinds of Input and produce the Concreate Output"
   ]
  },
  {
   "cell_type": "markdown",
   "id": "211bfc22",
   "metadata": {},
   "source": [
    "def-> is a keyword used to define a Function "
   ]
  },
  {
   "cell_type": "code",
   "execution_count": 2,
   "id": "2808d4d6",
   "metadata": {},
   "outputs": [],
   "source": [
    "def my_function():\n",
    "    print(\"Hello I'm from a Function\")"
   ]
  },
  {
   "cell_type": "code",
   "execution_count": 3,
   "id": "b98d45ab",
   "metadata": {},
   "outputs": [
    {
     "name": "stdout",
     "output_type": "stream",
     "text": [
      "Hello I'm from a Function\n"
     ]
    }
   ],
   "source": [
    "my_function()"
   ]
  },
  {
   "cell_type": "code",
   "execution_count": 4,
   "id": "a5153647",
   "metadata": {},
   "outputs": [
    {
     "name": "stdout",
     "output_type": "stream",
     "text": [
      "CR001_Onkar\n"
     ]
    }
   ],
   "source": [
    "#Function with Arguments\n",
    "def my_ID(name):\n",
    "    print(\"CR001_\"+name)\n",
    "    \n",
    "my_ID(\"Onkar\")    "
   ]
  },
  {
   "cell_type": "code",
   "execution_count": 5,
   "id": "d02faab7",
   "metadata": {},
   "outputs": [
    {
     "data": {
      "text/plain": [
       "10"
      ]
     },
     "execution_count": 5,
     "metadata": {},
     "output_type": "execute_result"
    }
   ],
   "source": [
    " def add(a,b,c):\n",
    "        return a+b+c\n",
    "add(4,5,1)   "
   ]
  },
  {
   "cell_type": "markdown",
   "id": "18a86bce",
   "metadata": {},
   "source": [
    "By Using Lambda Function"
   ]
  },
  {
   "cell_type": "code",
   "execution_count": 6,
   "id": "35b2cbdd",
   "metadata": {},
   "outputs": [
    {
     "name": "stdout",
     "output_type": "stream",
     "text": [
      "14\n"
     ]
    }
   ],
   "source": [
    "add=lambda a,b,c: print(a+b+c)\n",
    "add(4,5,5)"
   ]
  },
  {
   "cell_type": "code",
   "execution_count": 7,
   "id": "8157a073",
   "metadata": {},
   "outputs": [
    {
     "name": "stdout",
     "output_type": "stream",
     "text": [
      "[1, 4, 9, 16, 25]\n"
     ]
    }
   ],
   "source": [
    "nums=[1,2,3,4,5]\n",
    "def sq(n):\n",
    "    return n*n\n",
    "square=map(sq,nums)\n",
    "print(list(square))"
   ]
  },
  {
   "cell_type": "code",
   "execution_count": 9,
   "id": "bcb01337",
   "metadata": {},
   "outputs": [
    {
     "name": "stdout",
     "output_type": "stream",
     "text": [
      "[('Nivetha', 4), ('Ashraf', 1), ('Nivashini', 3)]\n"
     ]
    }
   ],
   "source": [
    "Name=[\"Nivetha\",\"Ashraf\",\"Nivashini\"]\n",
    "ID=[4,1,3]\n",
    "mapped=zip(Name,ID)\n",
    "print(list(mapped))"
   ]
  },
  {
   "cell_type": "markdown",
   "id": "858c4371",
   "metadata": {},
   "source": [
    "Loops:\n",
    "-> For Loop\n",
    "-> while Loop\n"
   ]
  },
  {
   "cell_type": "code",
   "execution_count": 10,
   "id": "e9bfd68a",
   "metadata": {},
   "outputs": [
    {
     "name": "stdout",
     "output_type": "stream",
     "text": [
      "apple\n",
      "banana\n",
      "cherry\n",
      "Pineapple\n",
      "mango\n"
     ]
    }
   ],
   "source": [
    "fruits=[\"apple\",\"banana\",\"cherry\",\"Pineapple\",\"mango\"]\n",
    "for x in fruits:# x->iterator\n",
    "    print(x)"
   ]
  },
  {
   "cell_type": "code",
   "execution_count": 21,
   "id": "27ea821e",
   "metadata": {},
   "outputs": [
    {
     "name": "stdout",
     "output_type": "stream",
     "text": [
      "apple\n",
      "banana\n"
     ]
    }
   ],
   "source": [
    "for x in fruits:\n",
    "    print(x)\n",
    "    if x ==\"banana\":\n",
    "        break"
   ]
  },
  {
   "cell_type": "code",
   "execution_count": 25,
   "id": "b577dbbf",
   "metadata": {},
   "outputs": [
    {
     "name": "stdout",
     "output_type": "stream",
     "text": [
      "Apple\n",
      "Banana\n",
      "Date\n"
     ]
    }
   ],
   "source": [
    "fruits=[\"Apple\",\"Banana\",\"Cherry\",\"Date\"]\n",
    "for x in fruits:\n",
    "    if x==\"Cherry\":\n",
    "        continue # Skips the Statement\n",
    "    print(x)\n"
   ]
  },
  {
   "cell_type": "markdown",
   "id": "5b1c06c4",
   "metadata": {},
   "source": [
    "while-> As long as the condition True"
   ]
  },
  {
   "cell_type": "code",
   "execution_count": 26,
   "id": "846ceb3a",
   "metadata": {},
   "outputs": [
    {
     "name": "stdout",
     "output_type": "stream",
     "text": [
      "1\n",
      "2\n",
      "3\n",
      "4\n",
      "5\n"
     ]
    }
   ],
   "source": [
    "num=1\n",
    "while num<6:#exclude the last value\n",
    "    print(num)\n",
    "    num+=1"
   ]
  },
  {
   "cell_type": "code",
   "execution_count": 28,
   "id": "dd0129b8",
   "metadata": {},
   "outputs": [
    {
     "name": "stdout",
     "output_type": "stream",
     "text": [
      "1\n",
      "2\n",
      "3\n"
     ]
    }
   ],
   "source": [
    "num=1\n",
    "while num<6:\n",
    "    print(num)\n",
    "    if num==3:#when it reaches 3 it Stops\n",
    "        break\n",
    "    num+=1    "
   ]
  },
  {
   "cell_type": "code",
   "execution_count": 29,
   "id": "4aee6d7f",
   "metadata": {},
   "outputs": [
    {
     "name": "stdout",
     "output_type": "stream",
     "text": [
      "2\n",
      "4\n",
      "5\n",
      "6\n"
     ]
    }
   ],
   "source": [
    "num=1\n",
    "while num<6:\n",
    "    num+=1\n",
    "    if num==3:#when it reaches 3 it Stops\n",
    "        continue\n",
    "    print(num)   "
   ]
  },
  {
   "cell_type": "code",
   "execution_count": null,
   "id": "4c329361",
   "metadata": {},
   "outputs": [],
   "source": []
  }
 ],
 "metadata": {
  "kernelspec": {
   "display_name": "Python 3 (ipykernel)",
   "language": "python",
   "name": "python3"
  },
  "language_info": {
   "codemirror_mode": {
    "name": "ipython",
    "version": 3
   },
   "file_extension": ".py",
   "mimetype": "text/x-python",
   "name": "python",
   "nbconvert_exporter": "python",
   "pygments_lexer": "ipython3",
   "version": "3.10.9"
  }
 },
 "nbformat": 4,
 "nbformat_minor": 5
}
