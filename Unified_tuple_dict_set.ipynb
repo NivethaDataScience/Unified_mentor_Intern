{
 "cells": [
  {
   "cell_type": "markdown",
   "id": "67709b8b",
   "metadata": {},
   "source": [
    " Tuple\n",
    " -> They are used to store multiple items in a single variable\n",
    " -> A tuple is a collection which is stored and unchangeable.It is         written with round brackets"
   ]
  },
  {
   "cell_type": "code",
   "execution_count": 1,
   "id": "2fb10a5b",
   "metadata": {},
   "outputs": [
    {
     "name": "stdout",
     "output_type": "stream",
     "text": [
      "('apple', 'banana', 'cherry')\n"
     ]
    }
   ],
   "source": [
    "fruits=(\"apple\",\"banana\",\"cherry\") #standard Method\n",
    "print(fruits)"
   ]
  },
  {
   "cell_type": "code",
   "execution_count": null,
   "id": "ee7ab639",
   "metadata": {},
   "outputs": [],
   "source": [
    "fruits=(\"apple\",\"banana\",\"cherry\",\"banana\") #Allow Duplicates\n",
    "print(fruits)"
   ]
  },
  {
   "cell_type": "code",
   "execution_count": 2,
   "id": "275f40d2",
   "metadata": {},
   "outputs": [
    {
     "data": {
      "text/plain": [
       "2"
      ]
     },
     "execution_count": 2,
     "metadata": {},
     "output_type": "execute_result"
    }
   ],
   "source": [
    "#count() Method\n",
    "nums=(1,3,7,8,7,5,4,6,8,5)\n",
    "nums.count(5)"
   ]
  },
  {
   "cell_type": "code",
   "execution_count": 3,
   "id": "331fabe5",
   "metadata": {},
   "outputs": [
    {
     "data": {
      "text/plain": [
       "5"
      ]
     },
     "execution_count": 3,
     "metadata": {},
     "output_type": "execute_result"
    }
   ],
   "source": [
    "nums=(1,3,7,8,7,5,4,6,8,5)\n",
    "nums.index(5)"
   ]
  },
  {
   "cell_type": "code",
   "execution_count": 5,
   "id": "09aa7cd9",
   "metadata": {},
   "outputs": [
    {
     "name": "stdout",
     "output_type": "stream",
     "text": [
      "1\n",
      "8\n"
     ]
    }
   ],
   "source": [
    "nums=(1,3,7,8,7,5,4,6,8,5)\n",
    "print(min(nums))\n",
    "print(max(nums))"
   ]
  },
  {
   "cell_type": "markdown",
   "id": "f7ff2e36",
   "metadata": {},
   "source": [
    "Dictionary - Keys and Values(mapping)\n",
    "Methods-items()\n",
    "       -fromkeys()\n",
    "       -popitem()\n",
    "       -values()\n",
    "       -copy()\n",
    "       -get()\n",
    "       -keys()\n",
    "       -clear()\n",
    "       -pop()\n",
    "       -update()\n",
    "       -setdefault()"
   ]
  },
  {
   "cell_type": "markdown",
   "id": "318fabe2",
   "metadata": {},
   "source": [
    "->Dictionary are used to store data values in the key value pairs\n",
    "->A Dictionary is a collection which is orderd*, changable and do     not allow duplicates"
   ]
  },
  {
   "cell_type": "code",
   "execution_count": 6,
   "id": "6f220a81",
   "metadata": {},
   "outputs": [
    {
     "data": {
      "text/plain": [
       "'Mustang'"
      ]
     },
     "execution_count": 6,
     "metadata": {},
     "output_type": "execute_result"
    }
   ],
   "source": [
    "car={\"brand\":\"Ford\",\"model\":\"Mustang\",\"year\":1964}\n",
    "car.get(\"model\")"
   ]
  },
  {
   "cell_type": "code",
   "execution_count": 7,
   "id": "dc702888",
   "metadata": {},
   "outputs": [
    {
     "data": {
      "text/plain": [
       "dict_items([('brand', 'Ford'), ('model', 'Mustang'), ('year', 1964)])"
      ]
     },
     "execution_count": 7,
     "metadata": {},
     "output_type": "execute_result"
    }
   ],
   "source": [
    "car.items()"
   ]
  },
  {
   "cell_type": "code",
   "execution_count": 8,
   "id": "a1c56b75",
   "metadata": {},
   "outputs": [
    {
     "data": {
      "text/plain": [
       "dict_keys(['brand', 'model', 'year'])"
      ]
     },
     "execution_count": 8,
     "metadata": {},
     "output_type": "execute_result"
    }
   ],
   "source": [
    "car.keys()"
   ]
  },
  {
   "cell_type": "code",
   "execution_count": 9,
   "id": "8df68b35",
   "metadata": {},
   "outputs": [
    {
     "data": {
      "text/plain": [
       "dict_values(['Ford', 'Mustang', 1964])"
      ]
     },
     "execution_count": 9,
     "metadata": {},
     "output_type": "execute_result"
    }
   ],
   "source": [
    "car.values()"
   ]
  },
  {
   "cell_type": "code",
   "execution_count": 10,
   "id": "5a4f4ae5",
   "metadata": {},
   "outputs": [
    {
     "data": {
      "text/plain": [
       "'Mustang'"
      ]
     },
     "execution_count": 10,
     "metadata": {},
     "output_type": "execute_result"
    }
   ],
   "source": [
    "car.pop(\"model\")"
   ]
  },
  {
   "cell_type": "code",
   "execution_count": 11,
   "id": "f1b550f5",
   "metadata": {},
   "outputs": [
    {
     "name": "stdout",
     "output_type": "stream",
     "text": [
      "{'brand': 'Ford'}\n"
     ]
    }
   ],
   "source": [
    "car.popitem()\n",
    "print(car)"
   ]
  },
  {
   "cell_type": "code",
   "execution_count": 13,
   "id": "cf53c39f",
   "metadata": {},
   "outputs": [
    {
     "name": "stdout",
     "output_type": "stream",
     "text": [
      "{'brand': 'Ford', 'color': 'White'}\n"
     ]
    }
   ],
   "source": [
    "car.update({\"color\":\"White\"})\n",
    "print(car)"
   ]
  },
  {
   "cell_type": "code",
   "execution_count": 14,
   "id": "97766394",
   "metadata": {},
   "outputs": [
    {
     "name": "stdout",
     "output_type": "stream",
     "text": [
      "{}\n"
     ]
    }
   ],
   "source": [
    "car.clear()#make it empty\n",
    "print(car)"
   ]
  },
  {
   "cell_type": "markdown",
   "id": "9c290aad",
   "metadata": {},
   "source": [
    "Set - Sets are used to store multiple items in a single variable\n",
    "    - these are written with curly brackets"
   ]
  },
  {
   "cell_type": "markdown",
   "id": "eff938e7",
   "metadata": {},
   "source": [
    "Sets Method:\n",
    "         -issuperset{}\n",
    "         -copy{}\n",
    "         -clear{} and add{}\n",
    "         -issubset{}\n",
    "         -difference{}\n",
    "         -intersection{}\n",
    "         -union{}\n",
    "         -remove{}\n",
    "         -discard{}"
   ]
  },
  {
   "cell_type": "code",
   "execution_count": 17,
   "id": "7d427792",
   "metadata": {},
   "outputs": [
    {
     "name": "stdout",
     "output_type": "stream",
     "text": [
      "{'Apple', 'cherry', 'orange', 'banana'}\n"
     ]
    }
   ],
   "source": [
    "fruits={\"Apple\",\"banana\",\"cherry\"}\n",
    "fruits.add(\"orange\")\n",
    "print(fruits)"
   ]
  },
  {
   "cell_type": "code",
   "execution_count": 18,
   "id": "cdce6f2e",
   "metadata": {},
   "outputs": [
    {
     "name": "stdout",
     "output_type": "stream",
     "text": [
      "{'cherry', 'orange', 'banana'}\n"
     ]
    }
   ],
   "source": [
    "fruits.pop() #no order so as per random it pop the element\n",
    "print(fruits)"
   ]
  },
  {
   "cell_type": "code",
   "execution_count": 19,
   "id": "732a94c3",
   "metadata": {},
   "outputs": [
    {
     "name": "stdout",
     "output_type": "stream",
     "text": [
      "{'cherry', 'orange'}\n"
     ]
    }
   ],
   "source": [
    "fruits.remove(\"banana\")\n",
    "print(fruits)"
   ]
  },
  {
   "cell_type": "code",
   "execution_count": 20,
   "id": "4356173c",
   "metadata": {},
   "outputs": [
    {
     "name": "stdout",
     "output_type": "stream",
     "text": [
      "{'google', 'Microsoft'}\n"
     ]
    }
   ],
   "source": [
    "x={\"Apple\",\"banana\",\"cherry\"}\n",
    "y={\"google\",\"Microsoft\",\"Apple\"}\n",
    "print(y.difference(x))"
   ]
  },
  {
   "cell_type": "code",
   "execution_count": 21,
   "id": "6aaf4150",
   "metadata": {},
   "outputs": [
    {
     "name": "stdout",
     "output_type": "stream",
     "text": [
      "{'Apple'}\n"
     ]
    }
   ],
   "source": [
    "x={\"Apple\",\"banana\",\"cherry\"}\n",
    "y={\"google\",\"Microsoft\",\"Apple\"}\n",
    "print(x.intersection(y))"
   ]
  },
  {
   "cell_type": "code",
   "execution_count": 22,
   "id": "9488fa8e",
   "metadata": {},
   "outputs": [
    {
     "name": "stdout",
     "output_type": "stream",
     "text": [
      "{'google', 'Apple', 'banana', 'cherry', 'Microsoft'}\n"
     ]
    }
   ],
   "source": [
    "print(x.union(y))"
   ]
  },
  {
   "cell_type": "code",
   "execution_count": 23,
   "id": "441031e5",
   "metadata": {},
   "outputs": [
    {
     "name": "stdout",
     "output_type": "stream",
     "text": [
      "{'google', 'Apple', 'banana', 'cherry', 'Microsoft'}\n"
     ]
    }
   ],
   "source": [
    "x.update(y)\n",
    "print(x)"
   ]
  },
  {
   "cell_type": "code",
   "execution_count": null,
   "id": "b7b32de1",
   "metadata": {},
   "outputs": [],
   "source": []
  }
 ],
 "metadata": {
  "kernelspec": {
   "display_name": "Python 3 (ipykernel)",
   "language": "python",
   "name": "python3"
  },
  "language_info": {
   "codemirror_mode": {
    "name": "ipython",
    "version": 3
   },
   "file_extension": ".py",
   "mimetype": "text/x-python",
   "name": "python",
   "nbconvert_exporter": "python",
   "pygments_lexer": "ipython3",
   "version": "3.10.9"
  }
 },
 "nbformat": 4,
 "nbformat_minor": 5
}
