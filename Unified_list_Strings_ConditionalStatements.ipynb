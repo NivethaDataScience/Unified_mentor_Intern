{
 "cells": [
  {
   "cell_type": "markdown",
   "id": "f9f5ae87",
   "metadata": {},
   "source": [
    "Lists - placed within square brackets \n",
    "      - Seperated by Commas"
   ]
  },
  {
   "cell_type": "code",
   "execution_count": 1,
   "id": "4ecf41c8",
   "metadata": {},
   "outputs": [],
   "source": [
    "fruits=['Apple','Cherry','Banana']\n",
    "fruits.append(\"orange\")"
   ]
  },
  {
   "cell_type": "code",
   "execution_count": 2,
   "id": "18bb8e81",
   "metadata": {},
   "outputs": [
    {
     "data": {
      "text/plain": [
       "['Apple', 'Cherry', 'Banana', 'orange']"
      ]
     },
     "execution_count": 2,
     "metadata": {},
     "output_type": "execute_result"
    }
   ],
   "source": [
    "fruits"
   ]
  },
  {
   "cell_type": "code",
   "execution_count": 4,
   "id": "c756de79",
   "metadata": {},
   "outputs": [
    {
     "data": {
      "text/plain": [
       "['Apple', 'Banana', 'Cherry', 'orange']"
      ]
     },
     "execution_count": 4,
     "metadata": {},
     "output_type": "execute_result"
    }
   ],
   "source": [
    "fruits.sort()\n",
    "fruits"
   ]
  },
  {
   "cell_type": "code",
   "execution_count": 6,
   "id": "2526e613",
   "metadata": {},
   "outputs": [
    {
     "data": {
      "text/plain": [
       "['orange', 'Cherry', 'Banana', 'Apple']"
      ]
     },
     "execution_count": 6,
     "metadata": {},
     "output_type": "execute_result"
    }
   ],
   "source": [
    "fruits.reverse()\n",
    "fruits"
   ]
  },
  {
   "cell_type": "code",
   "execution_count": 7,
   "id": "19125606",
   "metadata": {},
   "outputs": [
    {
     "data": {
      "text/plain": [
       "'Cherry'"
      ]
     },
     "execution_count": 7,
     "metadata": {},
     "output_type": "execute_result"
    }
   ],
   "source": [
    "fruits.pop(1)"
   ]
  },
  {
   "cell_type": "code",
   "execution_count": 9,
   "id": "e53f271c",
   "metadata": {},
   "outputs": [
    {
     "data": {
      "text/plain": [
       "['orange', 'watermelon', 'watermelon', 'Banana', 'Apple']"
      ]
     },
     "execution_count": 9,
     "metadata": {},
     "output_type": "execute_result"
    }
   ],
   "source": [
    "fruits.insert(1,\"watermelon\")\n",
    "fruits"
   ]
  },
  {
   "cell_type": "code",
   "execution_count": 11,
   "id": "e546940b",
   "metadata": {},
   "outputs": [
    {
     "data": {
      "text/plain": [
       "['orange', 'watermelon', 'watermelon', 'Banana', 'Apple']"
      ]
     },
     "execution_count": 11,
     "metadata": {},
     "output_type": "execute_result"
    }
   ],
   "source": [
    "fruits.index(\"watermelon\")\n",
    "fruits"
   ]
  },
  {
   "cell_type": "code",
   "execution_count": 14,
   "id": "42dc6e2a",
   "metadata": {},
   "outputs": [
    {
     "data": {
      "text/plain": [
       "['orange',\n",
       " 'watermelon',\n",
       " 'watermelon',\n",
       " 'Banana',\n",
       " 'Apple',\n",
       " 'Strawberry',\n",
       " 'pineapple',\n",
       " 'gauva',\n",
       " 'cherry',\n",
       " 'Strawberry',\n",
       " 'pineapple',\n",
       " 'gauva',\n",
       " 'cherry']"
      ]
     },
     "execution_count": 14,
     "metadata": {},
     "output_type": "execute_result"
    }
   ],
   "source": [
    "others=[\"Strawberry\", \"pineapple\",\"gauva\",\"cherry\"]\n",
    "fruits.extend(others)\n",
    "fruits"
   ]
  },
  {
   "cell_type": "code",
   "execution_count": 16,
   "id": "f4a9e900",
   "metadata": {},
   "outputs": [
    {
     "data": {
      "text/plain": [
       "2"
      ]
     },
     "execution_count": 16,
     "metadata": {},
     "output_type": "execute_result"
    }
   ],
   "source": [
    "fruits.count('cherry')"
   ]
  },
  {
   "cell_type": "code",
   "execution_count": 17,
   "id": "e6fe218f",
   "metadata": {},
   "outputs": [
    {
     "data": {
      "text/plain": [
       "['orange',\n",
       " 'watermelon',\n",
       " 'watermelon',\n",
       " 'Banana',\n",
       " 'Apple',\n",
       " 'Strawberry',\n",
       " 'pineapple',\n",
       " 'gauva',\n",
       " 'cherry',\n",
       " 'Strawberry',\n",
       " 'pineapple',\n",
       " 'gauva',\n",
       " 'cherry']"
      ]
     },
     "execution_count": 17,
     "metadata": {},
     "output_type": "execute_result"
    }
   ],
   "source": [
    "fruits.copy()"
   ]
  },
  {
   "cell_type": "code",
   "execution_count": 18,
   "id": "be2f8512",
   "metadata": {},
   "outputs": [],
   "source": [
    "fruits.clear()"
   ]
  },
  {
   "cell_type": "code",
   "execution_count": 19,
   "id": "ec5b1dc3",
   "metadata": {},
   "outputs": [
    {
     "data": {
      "text/plain": [
       "[]"
      ]
     },
     "execution_count": 19,
     "metadata": {},
     "output_type": "execute_result"
    }
   ],
   "source": [
    "fruits"
   ]
  },
  {
   "cell_type": "markdown",
   "id": "922ad9b7",
   "metadata": {},
   "source": [
    "String \n",
    "Index starts from 0 \n",
    "and Negative Index starts from -1\n",
    "All string methods returns New Values"
   ]
  },
  {
   "cell_type": "markdown",
   "id": "5d895af6",
   "metadata": {},
   "source": [
    "String methods\n",
    "1-> capitalize()\n",
    "2->.isalpha()\n",
    "3->.isnumeric()\n",
    "4->.isupper()\n",
    "5->.split()\n",
    "6->.title()\n",
    "7->.strip()\n",
    "8->.replace('q','a')"
   ]
  },
  {
   "cell_type": "code",
   "execution_count": 2,
   "id": "6abc4e89",
   "metadata": {},
   "outputs": [
    {
     "name": "stdout",
     "output_type": "stream",
     "text": [
      "Hello i'm data science student\n"
     ]
    }
   ],
   "source": [
    "txt=\"hello I'm Data Science Student\"\n",
    "a=txt.capitalize()\n",
    "print(a)"
   ]
  },
  {
   "cell_type": "code",
   "execution_count": 4,
   "id": "7dfe865b",
   "metadata": {},
   "outputs": [
    {
     "name": "stdout",
     "output_type": "stream",
     "text": [
      "2\n"
     ]
    }
   ],
   "source": [
    "txt=\"hello hello Hello I'm Data Science Student\"\n",
    "a=txt.count(\"hello\")#uppercase and lowercase letters are Distinct\n",
    "print(a)"
   ]
  },
  {
   "cell_type": "code",
   "execution_count": 5,
   "id": "f2616b37",
   "metadata": {},
   "outputs": [
    {
     "name": "stdout",
     "output_type": "stream",
     "text": [
      "12\n"
     ]
    }
   ],
   "source": [
    "txt=\"hello hello Hello I'm Data Science Student\"\n",
    "a=txt.find(\"Hello\")#uppercase and lowercase letters are Distinct\n",
    "print(a)"
   ]
  },
  {
   "cell_type": "code",
   "execution_count": 7,
   "id": "94e1bd30",
   "metadata": {},
   "outputs": [
    {
     "name": "stdout",
     "output_type": "stream",
     "text": [
      "22\n"
     ]
    }
   ],
   "source": [
    "d=txt.index('Data')\n",
    "print(d)"
   ]
  },
  {
   "cell_type": "code",
   "execution_count": 8,
   "id": "03b3a960",
   "metadata": {},
   "outputs": [
    {
     "name": "stdout",
     "output_type": "stream",
     "text": [
      "['hello', 'hello', 'Hello', \"I'm\", 'Data', 'Science', 'Student']\n"
     ]
    }
   ],
   "source": [
    "txt=\"hello hello Hello I'm Data Science Student\"\n",
    "a=txt.split()#uppercase and lowercase letters are Distinct\n",
    "print(a)"
   ]
  },
  {
   "cell_type": "code",
   "execution_count": 9,
   "id": "2f4643c1",
   "metadata": {},
   "outputs": [
    {
     "name": "stdout",
     "output_type": "stream",
     "text": [
      "hello hello Hello I'm Data Science Student\n"
     ]
    }
   ],
   "source": [
    "txt=\"hello hello Hello I'm Data Science Student\"\n",
    "a=txt.strip()#uppercase and lowercase letters are Distinct\n",
    "print(a)"
   ]
  },
  {
   "cell_type": "code",
   "execution_count": 11,
   "id": "4f754db5",
   "metadata": {},
   "outputs": [
    {
     "name": "stdout",
     "output_type": "stream",
     "text": [
      "[\"hello hello Hello I'm Data Science Student\"]\n"
     ]
    }
   ],
   "source": [
    "txt=\"hello hello Hello I'm Data Science Student\"\n",
    "a=txt.split(',')#uppercase and lowercase letters are Distinct\n",
    "print(a)"
   ]
  },
  {
   "cell_type": "code",
   "execution_count": 13,
   "id": "712d8739",
   "metadata": {},
   "outputs": [
    {
     "name": "stdout",
     "output_type": "stream",
     "text": [
      "True\n"
     ]
    }
   ],
   "source": [
    "txt=\"Company12\"\n",
    "name=txt.isalnum()\n",
    "print(name)"
   ]
  },
  {
   "cell_type": "code",
   "execution_count": 14,
   "id": "5db7fcd6",
   "metadata": {},
   "outputs": [
    {
     "name": "stdout",
     "output_type": "stream",
     "text": [
      "True\n"
     ]
    }
   ],
   "source": [
    "txt=\"CompanyX\"\n",
    "name=txt.isalpha()\n",
    "print(name)"
   ]
  },
  {
   "cell_type": "code",
   "execution_count": 16,
   "id": "6b66f9b5",
   "metadata": {},
   "outputs": [
    {
     "name": "stdout",
     "output_type": "stream",
     "text": [
      "True\n"
     ]
    }
   ],
   "source": [
    "txt=\"30800\"\n",
    "name=txt.isdigit()\n",
    "print(name)"
   ]
  },
  {
   "cell_type": "code",
   "execution_count": 17,
   "id": "b1412f1a",
   "metadata": {},
   "outputs": [
    {
     "name": "stdout",
     "output_type": "stream",
     "text": [
      "john_Peter_Vicky\n"
     ]
    }
   ],
   "source": [
    "names=[\"john\",\"Peter\",\"Vicky\"]\n",
    "joined=\"_\".join(names)\n",
    "print(joined)"
   ]
  },
  {
   "cell_type": "code",
   "execution_count": 19,
   "id": "43568619",
   "metadata": {},
   "outputs": [
    {
     "name": "stdout",
     "output_type": "stream",
     "text": [
      "I Love cricket\n"
     ]
    }
   ],
   "source": [
    "txt=\"I Love Sports\"\n",
    "result=txt.replace(\"Sports\",\"cricket\")\n",
    "print(result)\n"
   ]
  },
  {
   "cell_type": "code",
   "execution_count": 20,
   "id": "0018afd6",
   "metadata": {},
   "outputs": [
    {
     "name": "stdout",
     "output_type": "stream",
     "text": [
      "True\n",
      "True\n"
     ]
    }
   ],
   "source": [
    "txt=\"Hello, welcome to my world.\"\n",
    "start=txt.startswith(\"Hello\")\n",
    "end=txt.endswith(\".\")\n",
    "print(start)\n",
    "print(end)"
   ]
  },
  {
   "cell_type": "markdown",
   "id": "2aa83cdc",
   "metadata": {},
   "source": [
    "Conditional Statements"
   ]
  },
  {
   "cell_type": "markdown",
   "id": "611d1d98",
   "metadata": {},
   "source": [
    "-> Simple if\n",
    "-> Nested if\n",
    "-> if else\n",
    "-> break\n",
    "-> Continue\n"
   ]
  },
  {
   "cell_type": "code",
   "execution_count": 21,
   "id": "df231dde",
   "metadata": {},
   "outputs": [
    {
     "name": "stdout",
     "output_type": "stream",
     "text": [
      "True\n"
     ]
    }
   ],
   "source": [
    "a,b=33,200\n",
    "print(b>a)"
   ]
  },
  {
   "cell_type": "code",
   "execution_count": 22,
   "id": "4b52450d",
   "metadata": {},
   "outputs": [
    {
     "name": "stdout",
     "output_type": "stream",
     "text": [
      "B is grater than A\n"
     ]
    }
   ],
   "source": [
    "if b>a:\n",
    "    print(\"B is grater than A\")"
   ]
  },
  {
   "cell_type": "code",
   "execution_count": 23,
   "id": "14984b32",
   "metadata": {},
   "outputs": [
    {
     "name": "stdout",
     "output_type": "stream",
     "text": [
      "aman scores greater than vinod\n"
     ]
    }
   ],
   "source": [
    "aman,vinod=80,62\n",
    "if vinod>aman:\n",
    "    print(\"vinod Scores Greater Than aman\")\n",
    "elif aman==vinod:    \n",
    "    print(\"Both Scores Equally\")\n",
    "else:\n",
    "    print(\"aman scores greater than vinod\")"
   ]
  },
  {
   "cell_type": "code",
   "execution_count": 26,
   "id": "7f978be4",
   "metadata": {},
   "outputs": [
    {
     "name": "stdout",
     "output_type": "stream",
     "text": [
      "He is Pass\n",
      "He is in mid Range\n"
     ]
    }
   ],
   "source": [
    "marks=45\n",
    "if marks>35:\n",
    "    print(\"He is Pass\")\n",
    "    if marks>60:\n",
    "        print(\"He is in Distinction\")\n",
    "    else:\n",
    "        print(\"He is in mid Range\")\n",
    "else:\n",
    "    print(\"Sadly,he is Fail\")"
   ]
  },
  {
   "cell_type": "code",
   "execution_count": null,
   "id": "f26ea898",
   "metadata": {},
   "outputs": [],
   "source": []
  }
 ],
 "metadata": {
  "kernelspec": {
   "display_name": "Python 3 (ipykernel)",
   "language": "python",
   "name": "python3"
  },
  "language_info": {
   "codemirror_mode": {
    "name": "ipython",
    "version": 3
   },
   "file_extension": ".py",
   "mimetype": "text/x-python",
   "name": "python",
   "nbconvert_exporter": "python",
   "pygments_lexer": "ipython3",
   "version": "3.10.9"
  }
 },
 "nbformat": 4,
 "nbformat_minor": 5
}
